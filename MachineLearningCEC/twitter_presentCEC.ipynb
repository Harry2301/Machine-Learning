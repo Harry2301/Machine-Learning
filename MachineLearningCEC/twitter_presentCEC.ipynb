{
 "cells": [
  {
   "cell_type": "code",
   "execution_count": 1,
   "id": "5ed4af70",
   "metadata": {},
   "outputs": [
    {
     "name": "stdout",
     "output_type": "stream",
     "text": [
      "Requirement already satisfied: tweepy in c:\\users\\maury\\anaconda3\\lib\\site-packages (4.12.1)\n",
      "Requirement already satisfied: requests<3,>=2.27.0 in c:\\users\\maury\\anaconda3\\lib\\site-packages (from tweepy) (2.28.1)\n",
      "Requirement already satisfied: requests-oauthlib<2,>=1.2.0 in c:\\users\\maury\\anaconda3\\lib\\site-packages (from tweepy) (1.3.1)\n",
      "Requirement already satisfied: oauthlib<4,>=3.2.0 in c:\\users\\maury\\anaconda3\\lib\\site-packages (from tweepy) (3.2.2)\n",
      "Requirement already satisfied: urllib3<1.27,>=1.21.1 in c:\\users\\maury\\anaconda3\\lib\\site-packages (from requests<3,>=2.27.0->tweepy) (1.26.11)\n",
      "Requirement already satisfied: idna<4,>=2.5 in c:\\users\\maury\\anaconda3\\lib\\site-packages (from requests<3,>=2.27.0->tweepy) (3.3)\n",
      "Requirement already satisfied: certifi>=2017.4.17 in c:\\users\\maury\\anaconda3\\lib\\site-packages (from requests<3,>=2.27.0->tweepy) (2022.9.14)\n",
      "Requirement already satisfied: charset-normalizer<3,>=2 in c:\\users\\maury\\anaconda3\\lib\\site-packages (from requests<3,>=2.27.0->tweepy) (2.0.4)\n",
      "Note: you may need to restart the kernel to use updated packages.\n"
     ]
    }
   ],
   "source": [
    "pip install tweepy"
   ]
  },
  {
   "cell_type": "code",
   "execution_count": 4,
   "id": "4329c936",
   "metadata": {},
   "outputs": [
    {
     "name": "stdout",
     "output_type": "stream",
     "text": [
      " Enter \n",
      " 1 for Json \n",
      " 2 for csv \n",
      " 3 for excel : 5\n",
      "Error: Enter Correct Number!\n"
     ]
    }
   ],
   "source": [
    "#importing necessary libraries\n",
    "import pandas as pd\n",
    "import tweepy\n",
    "from tweepy import OAuthHandler\n",
    "\n",
    "#Credentials from twitter developer account to fetch the required data\n",
    "consumer_key = \"uJUfRK2GdxfdqOyo43RWmkCbd\"\n",
    "consumer_secret = \"sK6WNrfYZKBhFKXyneWv6URESMwq7GwcLbKQER1D7B50WSkwdj\"\n",
    "access_key = \"2551921020-ZkWwPqeqRgtJtESKnd5nnAWbVa12oK56WT1zBEB\"\n",
    "access_secret = \"PIKiOs0eewDKqsaKiPqQ99L7lrYCqa9clrqm5QMrqrX0m\"\n",
    "\n",
    "#Authentication for the credentials\n",
    "auth = OAuthHandler(consumer_key, consumer_secret)\n",
    "auth.set_access_token(access_key, access_secret)\n",
    "\n",
    "#Accessing twitter api\n",
    "api = tweepy.API(auth, wait_on_rate_limit=True)\n",
    "\n",
    "#Write the username you want to search for\n",
    "username = \"imVkohli\" \n",
    "\n",
    "#Write the keyword you want to search for\n",
    "#keyword = \"cricket\"\n",
    "\n",
    "#Write the keyword you want to search for with given date range\n",
    "#keyword = \"india since:2023-02-14 until:2023-02-23\"\n",
    "\n",
    "#Enter the number of tweets you want to fetch\n",
    "no_of_tweets = 10\n",
    "\n",
    "try:\n",
    "    #Will fetch the user details\n",
    "    tweets = api.user_timeline(screen_name=username, count=no_of_tweets)\n",
    "    \n",
    "    #Will search for entered keyword\n",
    "    #tweets = api.search_tweets(q=keyword , count=no_of_tweets )\n",
    "    \n",
    "    #We can directly pass the keyword in the parameter and can give the date range\n",
    "    #tweets = api.search_tweets(\"india\",count=no_of_tweets,until =\"2023-02-23\")\n",
    "    \n",
    "    #Parameters of user you want to fetch\n",
    "    attributes_container = [[tweet.user.name,tweet.user.followers_count,tweet.user.friends_count,tweet.entities['hashtags'],tweet.created_at, tweet.favorite_count,tweet.retweet_count,tweet.source,  tweet.text] for tweet in tweets]\n",
    "\n",
    "    #Creation of column list to rename the columns in the dataframe\n",
    "    columns = [\"User\",\"Followers\",\"Following\",\"Hashtags\",\"Date Created\", \"Number of Likes\",\"Retweet Count\", \"Source of Tweet\", \"Tweet\"]\n",
    "    \n",
    "    #Creation of Dataframe\n",
    "    tweets_df = pd.DataFrame(attributes_container, columns=columns)\n",
    "except BaseException as e:\n",
    "    print('Status Failed On,',str(e))\n",
    "    \n",
    "    \n",
    "    \n",
    "tweets_df['Date Created'] = tweets_df['Date Created'].dt.tz_localize(None)\n",
    "\n",
    "\n",
    "#Printing the fetched data in a dataframe\n",
    "tweets_df\n",
    "\n",
    "# name=\"one.xlsx\"\n",
    "# tweets_df.to_excel(name)\n",
    "# tweets_df.to_excel(r'C:\\Users\\maury\\mlp\\mishri.xlsx')\n",
    "\n",
    "\n",
    "#tweets_df.to_json(\"hadiya.json\")\n",
    "#tweets_df.to_json(r'C:\\Users\\maury\\mlp\\sanju1.json')\n",
    "\n",
    "\n",
    "#tweets_df.to_csv(\"new.csv\")\n",
    "#tweets_df.to_csv(r'C:\\Users\\maury\\mlp\\sanju2.csv')\n",
    "\n",
    "\n",
    "choose = input(\" Enter \\n 1 for Json \\n 2 for csv \\n 3 for excel : \")\n",
    "formatchoice = int(choose)\n",
    "#print(\"Wow! Your age is \", formatchoice)\n",
    "if formatchoice == 1:\n",
    "    tweets_df.to_json(\"newJson.json\")\n",
    "    print(\"File is Downloaded\")\n",
    "elif formatchoice == 2:\n",
    "    tweets_df.to_csv(\"newCsv.csv\")\n",
    "    print(\"File is Downloaded\")\n",
    "elif formatchoice == 3:\n",
    "    file_name=\"newExcel.xlsx\"\n",
    "    tweets_df.to_excel(file_name)\n",
    "    print(\"File is Downloaded\")\n",
    "else:\n",
    "     print(\"Error: Enter Correct Number!\")\n"
   ]
  },
  {
   "cell_type": "code",
   "execution_count": null,
   "id": "60aa2d18",
   "metadata": {},
   "outputs": [],
   "source": []
  },
  {
   "cell_type": "code",
   "execution_count": null,
   "id": "3ef653a1",
   "metadata": {},
   "outputs": [],
   "source": []
  },
  {
   "cell_type": "code",
   "execution_count": null,
   "id": "f411ecbd",
   "metadata": {},
   "outputs": [],
   "source": []
  }
 ],
 "metadata": {
  "kernelspec": {
   "display_name": "Python 3 (ipykernel)",
   "language": "python",
   "name": "python3"
  },
  "language_info": {
   "codemirror_mode": {
    "name": "ipython",
    "version": 3
   },
   "file_extension": ".py",
   "mimetype": "text/x-python",
   "name": "python",
   "nbconvert_exporter": "python",
   "pygments_lexer": "ipython3",
   "version": "3.9.13"
  }
 },
 "nbformat": 4,
 "nbformat_minor": 5
}
